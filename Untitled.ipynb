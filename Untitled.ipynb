{
 "cells": [
  {
   "cell_type": "code",
   "execution_count": 4,
   "metadata": {
    "scrolled": true
   },
   "outputs": [
    {
     "name": "stderr",
     "output_type": "stream",
     "text": [
      "\u001b[32m\u001b[1m Activating\u001b[22m\u001b[39m environment at `~/Desktop/tudelft/fe_lab/Project.toml`\n"
     ]
    },
    {
     "name": "stdout",
     "output_type": "stream",
     "text": [
      "Mesh file defined 3 physical entities:\n",
      "entity_name = \"\\\"Border\\\"\"\n",
      "Target entity \"Border\" is 1 out of 3.\n",
      "length(v) = 852\n",
      "length(f) = 108\n",
      "Mesh file defined 3 physical entities:\n",
      "entity_name = \"\\\"Border\\\"\"\n",
      "entity_name = \"\\\"Coast\\\"\"\n",
      "Target entity \"Coast\" is 2 out of 3.\n",
      "length(v) = 852\n",
      "length(f) = 56\n",
      "Mesh file defined 3 physical entities:\n",
      "entity_name = \"\\\"Border\\\"\"\n",
      "entity_name = \"\\\"Coast\\\"\"\n",
      "entity_name = \"\\\"Sea\\\"\"\n",
      "Target entity \"Sea\" is 3 out of 3.\n",
      "length(v) = "
     ]
    },
    {
     "name": "stderr",
     "output_type": "stream",
     "text": [
      "┌ Info: sorting...\n",
      "└ @ CompScienceMeshes /home/ignacio/.julia/packages/CompScienceMeshes/T1EgP/src/fileio/gmsh.jl:92\n",
      "┌ Info: sorting...\n",
      "└ @ CompScienceMeshes /home/ignacio/.julia/packages/CompScienceMeshes/T1EgP/src/fileio/gmsh.jl:92\n"
     ]
    },
    {
     "name": "stdout",
     "output_type": "stream",
     "text": [
      "852\n",
      "length(f) = 1540\n"
     ]
    },
    {
     "name": "stderr",
     "output_type": "stream",
     "text": [
      "┌ Info: sorting...\n",
      "└ @ CompScienceMeshes /home/ignacio/.julia/packages/CompScienceMeshes/T1EgP/src/fileio/gmsh.jl:92\n"
     ]
    },
    {
     "data": {
      "text/html": [
       "<iframe src=\"http://127.0.0.1:8081/c3afa0a4-f5a9-4a44-ac0a-bf0b1710cd82\" id=\"c3afa0a4-f5a9-4a44-ac0a-bf0b1710cd82\" style=\"position: relative; display: block; width: 100%; height: 100%; padding: 0; overflow: hidden; border: none\" scrolling=\"no\">\n",
       "</iframe>\n",
       "\n",
       "<script>\n",
       "function resize_jsserve_iframe(event) {\n",
       "   if (event.origin !== \"http://127.0.0.1:8081\") {\n",
       "       return;\n",
       "   }\n",
       "   const uuid = event.data[0];\n",
       "   const width = event.data[1];\n",
       "   const height = event.data[2];\n",
       "   const iframe = document.getElementById(uuid);\n",
       "   if (iframe) {\n",
       "       iframe.style.width = width + \"px\";\n",
       "       iframe.style.height = height + \"px\";\n",
       "   }\n",
       "};\n",
       "if (window.addEventListener) {\n",
       "   window.addEventListener(\"message\", resize_jsserve_iframe, false);\n",
       "} else if (window.attachEvent) {\n",
       "   window.attachEvent(\"onmessage\", resize_jsserve_iframe);\n",
       "}\n",
       "\n",
       "</script>\n",
       "\n"
      ]
     },
     "execution_count": 4,
     "metadata": {},
     "output_type": "execute_result"
    }
   ],
   "source": [
    "using AbstractPlotting\n",
    "AbstractPlotting.inline!(true)\n",
    "include(\"tsunami_ina.jl\")"
   ]
  },
  {
   "cell_type": "code",
   "execution_count": 103,
   "metadata": {},
   "outputs": [
    {
     "name": "stdout",
     "output_type": "stream",
     "text": [
      "Int64"
     ]
    }
   ],
   "source": [
    "print(typeof(3))"
   ]
  },
  {
   "cell_type": "code",
   "execution_count": null,
   "metadata": {},
   "outputs": [],
   "source": []
  },
  {
   "cell_type": "code",
   "execution_count": null,
   "metadata": {},
   "outputs": [],
   "source": []
  }
 ],
 "metadata": {
  "kernelspec": {
   "display_name": "Julia 1.4.1",
   "language": "julia",
   "name": "julia-1.4"
  },
  "language_info": {
   "file_extension": ".jl",
   "mimetype": "application/julia",
   "name": "julia",
   "version": "1.4.1"
  }
 },
 "nbformat": 4,
 "nbformat_minor": 4
}
